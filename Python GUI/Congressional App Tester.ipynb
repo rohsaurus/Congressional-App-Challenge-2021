{
 "cells": [
  {
   "cell_type": "code",
   "execution_count": null,
   "outputs": [],
   "source": [
    "from tensorflow.keras.models import load_model\n",
    "import numpy as np\n",
    "import cv2\n",
    "import threading\n",
    "from IPython.display import clear_output\n",
    "\n",
    "model = load_model(\"Congressional.h5\")\n",
    "vid = cv2.VideoCapture(0)\n",
    "ret, frame = vid.read()\n",
    "run = False #set this to true when the network should be run\n",
    "stopThreads = False\n",
    "\n",
    "image_width = 150\n",
    "image_height = 150\n",
    "\n",
    "def runModel():\n",
    "    global frame, run\n",
    "    global image_width, image_height\n",
    "    global model\n",
    "    \n",
    "    while not stopThreads:\n",
    "        if run:\n",
    "            run = False\n",
    "            \n",
    "            #process and run model on frame\n",
    "            frame = cv2.resize(frame, (image_width, image_height))\n",
    "            frame = np.reshape(frame, (1, image_width, image_height, 3))\n",
    "            pred = model.predict(frame)\n",
    "            \n",
    "            clear_output(wait=True)\n",
    "            print(pred.argmax())\n",
    "\n",
    "x = threading.Thread(target=runModel, daemon = True)\n",
    "x.start()\n",
    "            \n",
    "while True:\n",
    "    ret, frame = vid.read()\n",
    "    \n",
    "    cv2.imshow('Video: ', frame)\n",
    "    \n",
    "    run = True\n",
    "    \n",
    "    if cv2.waitKey(1) & 0xFF == ord('q'):\n",
    "        break\n",
    "\n",
    "stopThreads = True\n",
    "x.join()\n",
    "vid.release()\n",
    "cv2.destroyAllWindows()"
   ],
   "metadata": {
    "collapsed": false,
    "pycharm": {
     "name": "#%%\n"
    }
   }
  },
  {
   "cell_type": "code",
   "execution_count": null,
   "id": "a464da18",
   "metadata": {},
   "outputs": [],
   "source": []
  }
 ],
 "metadata": {
  "kernelspec": {
   "display_name": "Python 3",
   "language": "python",
   "name": "python3"
  },
  "language_info": {
   "codemirror_mode": {
    "name": "ipython",
    "version": 3
   },
   "file_extension": ".py",
   "mimetype": "text/x-python",
   "name": "python",
   "nbconvert_exporter": "python",
   "pygments_lexer": "ipython3",
   "version": "3.9.1"
  }
 },
 "nbformat": 4,
 "nbformat_minor": 5
}